{
  "nbformat": 4,
  "nbformat_minor": 0,
  "metadata": {
    "colab": {
      "name": "simple_html.ipynb",
      "version": "0.3.2",
      "provenance": [],
      "include_colab_link": true
    },
    "kernelspec": {
      "name": "python3",
      "display_name": "Python 3"
    },
    "accelerator": "TPU"
  },
  "cells": [
    {
      "cell_type": "markdown",
      "metadata": {
        "id": "view-in-github",
        "colab_type": "text"
      },
      "source": [
        "<a href=\"https://colab.research.google.com/github/jokandre/colab-samples/blob/master/simple_html.ipynb\" target=\"_parent\"><img src=\"https://colab.research.google.com/assets/colab-badge.svg\" alt=\"Open In Colab\"/></a>"
      ]
    },
    {
      "cell_type": "code",
      "metadata": {
        "id": "8BLOrFWX46j9",
        "colab_type": "code",
        "colab": {}
      },
      "source": [
        "#from IPython.display import HTML"
      ],
      "execution_count": 0,
      "outputs": []
    },
    {
      "cell_type": "markdown",
      "metadata": {
        "id": "hMJ3U0uJktxf",
        "colab_type": "text"
      },
      "source": [
        "## Method: Cell magic"
      ]
    },
    {
      "cell_type": "code",
      "metadata": {
        "id": "-cK5yfHm5L10",
        "colab_type": "code",
        "colab": {
          "base_uri": "https://localhost:8080/",
          "height": 217
        },
        "outputId": "e9d47805-73e9-4dc5-9ca9-291b5ea517ef"
      },
      "source": [
        "%%HTML\n",
        "<style>\n",
        "\n",
        "body {\n",
        "    height:200px;\n",
        "    background: black;\n",
        "}\n",
        "\n",
        ".clock {\n",
        "    position: absolute;\n",
        "    top: 50%;\n",
        "    left: 50%;\n",
        "    transform: translateX(-50%) translateY(-50%);\n",
        "    color: #17D4FE;\n",
        "    font-size: 60px;\n",
        "    font-family: Orbitron;\n",
        "    letter-spacing: 7px;\n",
        "\n",
        "}\n",
        "</style>\n",
        "<div id=\"MyClockDisplay\" class=\"clock\" onload=\"showTime()\"></div>\n",
        "<script>\n",
        "function showTime(){\n",
        "    var date = new Date();\n",
        "    var h = date.getHours(); // 0 - 23\n",
        "    var m = date.getMinutes(); // 0 - 59\n",
        "    var s = date.getSeconds(); // 0 - 59\n",
        "    var session = \"AM\";\n",
        "    \n",
        "    if(h == 0){\n",
        "        h = 12;\n",
        "    }\n",
        "    \n",
        "    if(h > 12){\n",
        "        h = h - 12;\n",
        "        session = \"PM\";\n",
        "    }\n",
        "    \n",
        "    h = (h < 10) ? \"0\" + h : h;\n",
        "    m = (m < 10) ? \"0\" + m : m;\n",
        "    s = (s < 10) ? \"0\" + s : s;\n",
        "    \n",
        "    var time = h + \":\" + m + \":\" + s + \" \" + session;\n",
        "    document.getElementById(\"MyClockDisplay\").innerText = time;\n",
        "    document.getElementById(\"MyClockDisplay\").textContent = time;\n",
        "    \n",
        "    setTimeout(showTime, 1000);\n",
        "    \n",
        "}\n",
        "\n",
        "showTime();\n",
        "</script>"
      ],
      "execution_count": 13,
      "outputs": [
        {
          "output_type": "display_data",
          "data": {
            "text/html": [
              "<style>\n",
              "\n",
              "body {\n",
              "    height:200px;\n",
              "    background: black;\n",
              "}\n",
              "\n",
              ".clock {\n",
              "    position: absolute;\n",
              "    top: 50%;\n",
              "    left: 50%;\n",
              "    transform: translateX(-50%) translateY(-50%);\n",
              "    color: #17D4FE;\n",
              "    font-size: 60px;\n",
              "    font-family: Orbitron;\n",
              "    letter-spacing: 7px;\n",
              "\n",
              "}\n",
              "</style>\n",
              "<div id=\"MyClockDisplay\" class=\"clock\" onload=\"showTime()\"></div>\n",
              "<script>\n",
              "function showTime(){\n",
              "    var date = new Date();\n",
              "    var h = date.getHours(); // 0 - 23\n",
              "    var m = date.getMinutes(); // 0 - 59\n",
              "    var s = date.getSeconds(); // 0 - 59\n",
              "    var session = \"AM\";\n",
              "    \n",
              "    if(h == 0){\n",
              "        h = 12;\n",
              "    }\n",
              "    \n",
              "    if(h > 12){\n",
              "        h = h - 12;\n",
              "        session = \"PM\";\n",
              "    }\n",
              "    \n",
              "    h = (h < 10) ? \"0\" + h : h;\n",
              "    m = (m < 10) ? \"0\" + m : m;\n",
              "    s = (s < 10) ? \"0\" + s : s;\n",
              "    \n",
              "    var time = h + \":\" + m + \":\" + s + \" \" + session;\n",
              "    document.getElementById(\"MyClockDisplay\").innerText = time;\n",
              "    document.getElementById(\"MyClockDisplay\").textContent = time;\n",
              "    \n",
              "    setTimeout(showTime, 1000);\n",
              "    \n",
              "}\n",
              "\n",
              "showTime();\n",
              "</script>"
            ],
            "text/plain": [
              "<IPython.core.display.HTML object>"
            ]
          },
          "metadata": {
            "tags": []
          }
        }
      ]
    }
  ]
}